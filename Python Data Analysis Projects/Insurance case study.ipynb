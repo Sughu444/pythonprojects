{
 "cells": [
  {
   "cell_type": "code",
   "execution_count": 77,
   "id": "93bb9afe",
   "metadata": {},
   "outputs": [],
   "source": [
    "import numpy as np\n",
    "import pandas as pd\n",
    "import datetime as dt\n",
    "import matplotlib.pyplot as plt\n",
    "import seaborn as sns"
   ]
  },
  {
   "cell_type": "code",
   "execution_count": 78,
   "id": "95dfe788",
   "metadata": {},
   "outputs": [],
   "source": [
    "claims = pd.read_csv(r'C:\\Users\\Sughu\\Downloads\\Python Foundation Case Study 3 - Insurance Claims Case Study\\claims.csv')"
   ]
  },
  {
   "cell_type": "code",
   "execution_count": 79,
   "id": "002d97fc",
   "metadata": {},
   "outputs": [],
   "source": [
    "cust_demographics = pd.read_csv(r'C:\\Users\\Sughu\\Downloads\\Python Foundation Case Study 3 - Insurance Claims Case Study\\cust_demographics.csv')"
   ]
  },
  {
   "cell_type": "code",
   "execution_count": 80,
   "id": "c843c05e",
   "metadata": {},
   "outputs": [
    {
     "data": {
      "text/plain": [
       "(1100, 10)"
      ]
     },
     "execution_count": 80,
     "metadata": {},
     "output_type": "execute_result"
    }
   ],
   "source": [
    "claims.shape"
   ]
  },
  {
   "cell_type": "code",
   "execution_count": 81,
   "id": "df7d14c3",
   "metadata": {},
   "outputs": [
    {
     "data": {
      "text/plain": [
       "(1085, 6)"
      ]
     },
     "execution_count": 81,
     "metadata": {},
     "output_type": "execute_result"
    }
   ],
   "source": [
    "cust_demographics.shape"
   ]
  },
  {
   "cell_type": "code",
   "execution_count": 82,
   "id": "954efb73",
   "metadata": {},
   "outputs": [],
   "source": [
    "#1\n",
    "cust_claims = pd.merge(left=cust_demographics,right=claims,left_on='CUST_ID',right_on='customer_id',how='inner')"
   ]
  },
  {
   "cell_type": "code",
   "execution_count": 83,
   "id": "2100447c",
   "metadata": {
    "scrolled": false
   },
   "outputs": [
    {
     "data": {
      "text/plain": [
       "CUST_ID                  int64\n",
       "gender                  object\n",
       "DateOfBirth             object\n",
       "State                   object\n",
       "Contact                 object\n",
       "Segment                 object\n",
       "claim_id                 int64\n",
       "customer_id              int64\n",
       "incident_cause          object\n",
       "claim_date              object\n",
       "claim_area              object\n",
       "police_report           object\n",
       "claim_type              object\n",
       "claim_amount            object\n",
       "total_policy_claims    float64\n",
       "fraudulent              object\n",
       "dtype: object"
      ]
     },
     "execution_count": 83,
     "metadata": {},
     "output_type": "execute_result"
    }
   ],
   "source": [
    "#2 Data Audit\n",
    "cust_claims.dtypes"
   ]
  },
  {
   "cell_type": "code",
   "execution_count": null,
   "id": "c5ea65c0",
   "metadata": {},
   "outputs": [],
   "source": []
  },
  {
   "cell_type": "code",
   "execution_count": 84,
   "id": "f7dab842",
   "metadata": {},
   "outputs": [],
   "source": [
    "#2\n",
    "cust_claims['DateOfBirth'] = pd.to_datetime(cust_claims['DateOfBirth'])"
   ]
  },
  {
   "cell_type": "code",
   "execution_count": 85,
   "id": "4040d7a8",
   "metadata": {
    "scrolled": true
   },
   "outputs": [],
   "source": [
    "cust_claims['claim_date'] = pd.to_datetime(cust_claims['claim_date'])"
   ]
  },
  {
   "cell_type": "code",
   "execution_count": 86,
   "id": "10f5d904",
   "metadata": {},
   "outputs": [],
   "source": [
    "#3 Converting the column claim_amount to numeric\n",
    "cust_claims['claim_amount'] = cust_claims['claim_amount'].apply(lambda x:str(x).replace('$','')).astype('float')"
   ]
  },
  {
   "cell_type": "code",
   "execution_count": 87,
   "id": "aa429bd0",
   "metadata": {},
   "outputs": [],
   "source": [
    "#4 Alert flag for unreported claims\n",
    "cust_claims['unreported'] = np.where(cust_claims['police_report']=='Unknown',1,0)"
   ]
  },
  {
   "cell_type": "code",
   "execution_count": 88,
   "id": "2b196585",
   "metadata": {},
   "outputs": [
    {
     "data": {
      "text/html": [
       "<div>\n",
       "<style scoped>\n",
       "    .dataframe tbody tr th:only-of-type {\n",
       "        vertical-align: middle;\n",
       "    }\n",
       "\n",
       "    .dataframe tbody tr th {\n",
       "        vertical-align: top;\n",
       "    }\n",
       "\n",
       "    .dataframe thead th {\n",
       "        text-align: right;\n",
       "    }\n",
       "</style>\n",
       "<table border=\"1\" class=\"dataframe\">\n",
       "  <thead>\n",
       "    <tr style=\"text-align: right;\">\n",
       "      <th></th>\n",
       "      <th>CUST_ID</th>\n",
       "      <th>gender</th>\n",
       "      <th>DateOfBirth</th>\n",
       "      <th>State</th>\n",
       "      <th>Contact</th>\n",
       "      <th>Segment</th>\n",
       "      <th>claim_id</th>\n",
       "      <th>customer_id</th>\n",
       "      <th>incident_cause</th>\n",
       "      <th>claim_date</th>\n",
       "      <th>claim_area</th>\n",
       "      <th>police_report</th>\n",
       "      <th>claim_type</th>\n",
       "      <th>claim_amount</th>\n",
       "      <th>total_policy_claims</th>\n",
       "      <th>fraudulent</th>\n",
       "      <th>unreported</th>\n",
       "    </tr>\n",
       "  </thead>\n",
       "  <tbody>\n",
       "    <tr>\n",
       "      <th>0</th>\n",
       "      <td>21868593</td>\n",
       "      <td>Female</td>\n",
       "      <td>1979-01-12</td>\n",
       "      <td>VT</td>\n",
       "      <td>789-916-8172</td>\n",
       "      <td>Platinum</td>\n",
       "      <td>54004764</td>\n",
       "      <td>21868593</td>\n",
       "      <td>Driver error</td>\n",
       "      <td>2017-11-27</td>\n",
       "      <td>Auto</td>\n",
       "      <td>No</td>\n",
       "      <td>Material only</td>\n",
       "      <td>2980.0</td>\n",
       "      <td>1.0</td>\n",
       "      <td>No</td>\n",
       "      <td>0</td>\n",
       "    </tr>\n",
       "    <tr>\n",
       "      <th>1</th>\n",
       "      <td>75740424</td>\n",
       "      <td>Female</td>\n",
       "      <td>2070-01-13</td>\n",
       "      <td>ME</td>\n",
       "      <td>265-543-1264</td>\n",
       "      <td>Silver</td>\n",
       "      <td>33985796</td>\n",
       "      <td>75740424</td>\n",
       "      <td>Crime</td>\n",
       "      <td>2018-10-03</td>\n",
       "      <td>Home</td>\n",
       "      <td>Unknown</td>\n",
       "      <td>Material only</td>\n",
       "      <td>2980.0</td>\n",
       "      <td>3.0</td>\n",
       "      <td>No</td>\n",
       "      <td>1</td>\n",
       "    </tr>\n",
       "    <tr>\n",
       "      <th>2</th>\n",
       "      <td>30308357</td>\n",
       "      <td>Female</td>\n",
       "      <td>1984-03-11</td>\n",
       "      <td>TN</td>\n",
       "      <td>798-631-4758</td>\n",
       "      <td>Silver</td>\n",
       "      <td>53522022</td>\n",
       "      <td>30308357</td>\n",
       "      <td>Other driver error</td>\n",
       "      <td>2018-02-02</td>\n",
       "      <td>Auto</td>\n",
       "      <td>No</td>\n",
       "      <td>Material only</td>\n",
       "      <td>3369.5</td>\n",
       "      <td>1.0</td>\n",
       "      <td>Yes</td>\n",
       "      <td>0</td>\n",
       "    </tr>\n",
       "    <tr>\n",
       "      <th>3</th>\n",
       "      <td>30308357</td>\n",
       "      <td>Female</td>\n",
       "      <td>1984-03-11</td>\n",
       "      <td>TN</td>\n",
       "      <td>798-631-4758</td>\n",
       "      <td>Silver</td>\n",
       "      <td>63017412</td>\n",
       "      <td>30308357</td>\n",
       "      <td>Driver error</td>\n",
       "      <td>2018-04-04</td>\n",
       "      <td>Auto</td>\n",
       "      <td>No</td>\n",
       "      <td>Material only</td>\n",
       "      <td>1950.0</td>\n",
       "      <td>6.0</td>\n",
       "      <td>No</td>\n",
       "      <td>0</td>\n",
       "    </tr>\n",
       "    <tr>\n",
       "      <th>4</th>\n",
       "      <td>47830476</td>\n",
       "      <td>Female</td>\n",
       "      <td>1986-05-01</td>\n",
       "      <td>MA</td>\n",
       "      <td>413-187-7945</td>\n",
       "      <td>Silver</td>\n",
       "      <td>13015401</td>\n",
       "      <td>47830476</td>\n",
       "      <td>Natural causes</td>\n",
       "      <td>2018-06-17</td>\n",
       "      <td>Auto</td>\n",
       "      <td>No</td>\n",
       "      <td>Material only</td>\n",
       "      <td>1680.0</td>\n",
       "      <td>1.0</td>\n",
       "      <td>No</td>\n",
       "      <td>0</td>\n",
       "    </tr>\n",
       "    <tr>\n",
       "      <th>...</th>\n",
       "      <td>...</td>\n",
       "      <td>...</td>\n",
       "      <td>...</td>\n",
       "      <td>...</td>\n",
       "      <td>...</td>\n",
       "      <td>...</td>\n",
       "      <td>...</td>\n",
       "      <td>...</td>\n",
       "      <td>...</td>\n",
       "      <td>...</td>\n",
       "      <td>...</td>\n",
       "      <td>...</td>\n",
       "      <td>...</td>\n",
       "      <td>...</td>\n",
       "      <td>...</td>\n",
       "      <td>...</td>\n",
       "      <td>...</td>\n",
       "    </tr>\n",
       "    <tr>\n",
       "      <th>1080</th>\n",
       "      <td>79539873</td>\n",
       "      <td>Female</td>\n",
       "      <td>1981-03-15</td>\n",
       "      <td>ND</td>\n",
       "      <td>459-425-4319</td>\n",
       "      <td>Platinum</td>\n",
       "      <td>62020796</td>\n",
       "      <td>79539873</td>\n",
       "      <td>Other driver error</td>\n",
       "      <td>2018-09-06</td>\n",
       "      <td>Auto</td>\n",
       "      <td>Yes</td>\n",
       "      <td>Material only</td>\n",
       "      <td>1770.0</td>\n",
       "      <td>1.0</td>\n",
       "      <td>No</td>\n",
       "      <td>0</td>\n",
       "    </tr>\n",
       "    <tr>\n",
       "      <th>1081</th>\n",
       "      <td>42364152</td>\n",
       "      <td>Female</td>\n",
       "      <td>1996-07-07</td>\n",
       "      <td>ID</td>\n",
       "      <td>529-462-1635</td>\n",
       "      <td>Silver</td>\n",
       "      <td>63269067</td>\n",
       "      <td>42364152</td>\n",
       "      <td>Other causes</td>\n",
       "      <td>2017-05-09</td>\n",
       "      <td>Home</td>\n",
       "      <td>No</td>\n",
       "      <td>Material only</td>\n",
       "      <td>2800.0</td>\n",
       "      <td>1.0</td>\n",
       "      <td>No</td>\n",
       "      <td>0</td>\n",
       "    </tr>\n",
       "    <tr>\n",
       "      <th>1082</th>\n",
       "      <td>19888166</td>\n",
       "      <td>Male</td>\n",
       "      <td>1990-04-11</td>\n",
       "      <td>WI</td>\n",
       "      <td>712-651-9613</td>\n",
       "      <td>Gold</td>\n",
       "      <td>22690595</td>\n",
       "      <td>19888166</td>\n",
       "      <td>Other driver error</td>\n",
       "      <td>2017-05-15</td>\n",
       "      <td>Auto</td>\n",
       "      <td>Yes</td>\n",
       "      <td>Injury only</td>\n",
       "      <td>33080.0</td>\n",
       "      <td>2.0</td>\n",
       "      <td>No</td>\n",
       "      <td>0</td>\n",
       "    </tr>\n",
       "    <tr>\n",
       "      <th>1083</th>\n",
       "      <td>11256802</td>\n",
       "      <td>Female</td>\n",
       "      <td>2064-10-22</td>\n",
       "      <td>LA</td>\n",
       "      <td>469-345-5617</td>\n",
       "      <td>Silver</td>\n",
       "      <td>12376894</td>\n",
       "      <td>11256802</td>\n",
       "      <td>Other driver error</td>\n",
       "      <td>2017-04-18</td>\n",
       "      <td>Auto</td>\n",
       "      <td>No</td>\n",
       "      <td>Material only</td>\n",
       "      <td>2840.0</td>\n",
       "      <td>4.0</td>\n",
       "      <td>No</td>\n",
       "      <td>0</td>\n",
       "    </tr>\n",
       "    <tr>\n",
       "      <th>1084</th>\n",
       "      <td>61575264</td>\n",
       "      <td>Male</td>\n",
       "      <td>1995-07-12</td>\n",
       "      <td>WY</td>\n",
       "      <td>182-385-1392</td>\n",
       "      <td>Gold</td>\n",
       "      <td>63226031</td>\n",
       "      <td>61575264</td>\n",
       "      <td>Natural causes</td>\n",
       "      <td>2017-03-16</td>\n",
       "      <td>Auto</td>\n",
       "      <td>No</td>\n",
       "      <td>Material only</td>\n",
       "      <td>1490.0</td>\n",
       "      <td>1.0</td>\n",
       "      <td>No</td>\n",
       "      <td>0</td>\n",
       "    </tr>\n",
       "  </tbody>\n",
       "</table>\n",
       "<p>1085 rows × 17 columns</p>\n",
       "</div>"
      ],
      "text/plain": [
       "       CUST_ID  gender DateOfBirth State       Contact   Segment  claim_id  \\\n",
       "0     21868593  Female  1979-01-12    VT  789-916-8172  Platinum  54004764   \n",
       "1     75740424  Female  2070-01-13    ME  265-543-1264    Silver  33985796   \n",
       "2     30308357  Female  1984-03-11    TN  798-631-4758    Silver  53522022   \n",
       "3     30308357  Female  1984-03-11    TN  798-631-4758    Silver  63017412   \n",
       "4     47830476  Female  1986-05-01    MA  413-187-7945    Silver  13015401   \n",
       "...        ...     ...         ...   ...           ...       ...       ...   \n",
       "1080  79539873  Female  1981-03-15    ND  459-425-4319  Platinum  62020796   \n",
       "1081  42364152  Female  1996-07-07    ID  529-462-1635    Silver  63269067   \n",
       "1082  19888166    Male  1990-04-11    WI  712-651-9613      Gold  22690595   \n",
       "1083  11256802  Female  2064-10-22    LA  469-345-5617    Silver  12376894   \n",
       "1084  61575264    Male  1995-07-12    WY  182-385-1392      Gold  63226031   \n",
       "\n",
       "      customer_id      incident_cause claim_date claim_area police_report  \\\n",
       "0        21868593        Driver error 2017-11-27       Auto            No   \n",
       "1        75740424               Crime 2018-10-03       Home       Unknown   \n",
       "2        30308357  Other driver error 2018-02-02       Auto            No   \n",
       "3        30308357        Driver error 2018-04-04       Auto            No   \n",
       "4        47830476      Natural causes 2018-06-17       Auto            No   \n",
       "...           ...                 ...        ...        ...           ...   \n",
       "1080     79539873  Other driver error 2018-09-06       Auto           Yes   \n",
       "1081     42364152        Other causes 2017-05-09       Home            No   \n",
       "1082     19888166  Other driver error 2017-05-15       Auto           Yes   \n",
       "1083     11256802  Other driver error 2017-04-18       Auto            No   \n",
       "1084     61575264      Natural causes 2017-03-16       Auto            No   \n",
       "\n",
       "         claim_type  claim_amount  total_policy_claims fraudulent  unreported  \n",
       "0     Material only        2980.0                  1.0         No           0  \n",
       "1     Material only        2980.0                  3.0         No           1  \n",
       "2     Material only        3369.5                  1.0        Yes           0  \n",
       "3     Material only        1950.0                  6.0         No           0  \n",
       "4     Material only        1680.0                  1.0         No           0  \n",
       "...             ...           ...                  ...        ...         ...  \n",
       "1080  Material only        1770.0                  1.0         No           0  \n",
       "1081  Material only        2800.0                  1.0         No           0  \n",
       "1082    Injury only       33080.0                  2.0         No           0  \n",
       "1083  Material only        2840.0                  4.0         No           0  \n",
       "1084  Material only        1490.0                  1.0         No           0  \n",
       "\n",
       "[1085 rows x 17 columns]"
      ]
     },
     "execution_count": 88,
     "metadata": {},
     "output_type": "execute_result"
    }
   ],
   "source": [
    "cust_claims"
   ]
  },
  {
   "cell_type": "code",
   "execution_count": 89,
   "id": "690a4c28",
   "metadata": {},
   "outputs": [
    {
     "data": {
      "text/html": [
       "<div>\n",
       "<style scoped>\n",
       "    .dataframe tbody tr th:only-of-type {\n",
       "        vertical-align: middle;\n",
       "    }\n",
       "\n",
       "    .dataframe tbody tr th {\n",
       "        vertical-align: top;\n",
       "    }\n",
       "\n",
       "    .dataframe thead th {\n",
       "        text-align: right;\n",
       "    }\n",
       "</style>\n",
       "<table border=\"1\" class=\"dataframe\">\n",
       "  <thead>\n",
       "    <tr style=\"text-align: right;\">\n",
       "      <th></th>\n",
       "      <th>CUST_ID</th>\n",
       "      <th>gender</th>\n",
       "      <th>DateOfBirth</th>\n",
       "      <th>State</th>\n",
       "      <th>Contact</th>\n",
       "      <th>Segment</th>\n",
       "      <th>claim_id</th>\n",
       "      <th>customer_id</th>\n",
       "      <th>incident_cause</th>\n",
       "      <th>claim_date</th>\n",
       "      <th>claim_area</th>\n",
       "      <th>police_report</th>\n",
       "      <th>claim_type</th>\n",
       "      <th>claim_amount</th>\n",
       "      <th>total_policy_claims</th>\n",
       "      <th>fraudulent</th>\n",
       "      <th>unreported</th>\n",
       "    </tr>\n",
       "  </thead>\n",
       "  <tbody>\n",
       "    <tr>\n",
       "      <th>941</th>\n",
       "      <td>46710738</td>\n",
       "      <td>Male</td>\n",
       "      <td>1977-04-28</td>\n",
       "      <td>MO</td>\n",
       "      <td>962-834-9361</td>\n",
       "      <td>Gold</td>\n",
       "      <td>74761374</td>\n",
       "      <td>46710738</td>\n",
       "      <td>Driver error</td>\n",
       "      <td>2018-10-30</td>\n",
       "      <td>Auto</td>\n",
       "      <td>No</td>\n",
       "      <td>Material only</td>\n",
       "      <td>1830.0</td>\n",
       "      <td>1.0</td>\n",
       "      <td>No</td>\n",
       "      <td>0</td>\n",
       "    </tr>\n",
       "    <tr>\n",
       "      <th>226</th>\n",
       "      <td>17682060</td>\n",
       "      <td>Female</td>\n",
       "      <td>1974-11-21</td>\n",
       "      <td>NV</td>\n",
       "      <td>186-195-3465</td>\n",
       "      <td>Gold</td>\n",
       "      <td>49735712</td>\n",
       "      <td>17682060</td>\n",
       "      <td>Crime</td>\n",
       "      <td>2018-10-30</td>\n",
       "      <td>Home</td>\n",
       "      <td>Unknown</td>\n",
       "      <td>Material and injury</td>\n",
       "      <td>17020.0</td>\n",
       "      <td>1.0</td>\n",
       "      <td>No</td>\n",
       "      <td>1</td>\n",
       "    </tr>\n",
       "    <tr>\n",
       "      <th>286</th>\n",
       "      <td>93915431</td>\n",
       "      <td>Male</td>\n",
       "      <td>2067-09-08</td>\n",
       "      <td>ME</td>\n",
       "      <td>134-785-1687</td>\n",
       "      <td>Gold</td>\n",
       "      <td>99775483</td>\n",
       "      <td>93915431</td>\n",
       "      <td>Other causes</td>\n",
       "      <td>2018-10-30</td>\n",
       "      <td>Auto</td>\n",
       "      <td>No</td>\n",
       "      <td>Material and injury</td>\n",
       "      <td>42124.5</td>\n",
       "      <td>1.0</td>\n",
       "      <td>Yes</td>\n",
       "      <td>0</td>\n",
       "    </tr>\n",
       "    <tr>\n",
       "      <th>751</th>\n",
       "      <td>28932340</td>\n",
       "      <td>Male</td>\n",
       "      <td>1996-01-05</td>\n",
       "      <td>LA</td>\n",
       "      <td>652-265-8231</td>\n",
       "      <td>Gold</td>\n",
       "      <td>25213498</td>\n",
       "      <td>28932340</td>\n",
       "      <td>Driver error</td>\n",
       "      <td>2018-10-30</td>\n",
       "      <td>Auto</td>\n",
       "      <td>Unknown</td>\n",
       "      <td>Material only</td>\n",
       "      <td>NaN</td>\n",
       "      <td>1.0</td>\n",
       "      <td>No</td>\n",
       "      <td>1</td>\n",
       "    </tr>\n",
       "    <tr>\n",
       "      <th>1055</th>\n",
       "      <td>58451506</td>\n",
       "      <td>Male</td>\n",
       "      <td>2068-04-22</td>\n",
       "      <td>FL</td>\n",
       "      <td>673-574-7823</td>\n",
       "      <td>Gold</td>\n",
       "      <td>43042986</td>\n",
       "      <td>58451506</td>\n",
       "      <td>Natural causes</td>\n",
       "      <td>2018-10-30</td>\n",
       "      <td>Auto</td>\n",
       "      <td>No</td>\n",
       "      <td>Material only</td>\n",
       "      <td>2420.0</td>\n",
       "      <td>1.0</td>\n",
       "      <td>No</td>\n",
       "      <td>0</td>\n",
       "    </tr>\n",
       "    <tr>\n",
       "      <th>...</th>\n",
       "      <td>...</td>\n",
       "      <td>...</td>\n",
       "      <td>...</td>\n",
       "      <td>...</td>\n",
       "      <td>...</td>\n",
       "      <td>...</td>\n",
       "      <td>...</td>\n",
       "      <td>...</td>\n",
       "      <td>...</td>\n",
       "      <td>...</td>\n",
       "      <td>...</td>\n",
       "      <td>...</td>\n",
       "      <td>...</td>\n",
       "      <td>...</td>\n",
       "      <td>...</td>\n",
       "      <td>...</td>\n",
       "      <td>...</td>\n",
       "    </tr>\n",
       "    <tr>\n",
       "      <th>177</th>\n",
       "      <td>74155265</td>\n",
       "      <td>Male</td>\n",
       "      <td>1985-11-16</td>\n",
       "      <td>TX</td>\n",
       "      <td>392-739-4873</td>\n",
       "      <td>Gold</td>\n",
       "      <td>25647821</td>\n",
       "      <td>74155265</td>\n",
       "      <td>Natural causes</td>\n",
       "      <td>2017-01-01</td>\n",
       "      <td>Auto</td>\n",
       "      <td>No</td>\n",
       "      <td>Material only</td>\n",
       "      <td>2080.0</td>\n",
       "      <td>1.0</td>\n",
       "      <td>No</td>\n",
       "      <td>0</td>\n",
       "    </tr>\n",
       "    <tr>\n",
       "      <th>120</th>\n",
       "      <td>39587790</td>\n",
       "      <td>Male</td>\n",
       "      <td>2065-01-10</td>\n",
       "      <td>LA</td>\n",
       "      <td>615-154-3516</td>\n",
       "      <td>Gold</td>\n",
       "      <td>39131766</td>\n",
       "      <td>39587790</td>\n",
       "      <td>Other causes</td>\n",
       "      <td>2017-01-01</td>\n",
       "      <td>Auto</td>\n",
       "      <td>No</td>\n",
       "      <td>Material only</td>\n",
       "      <td>2967.0</td>\n",
       "      <td>1.0</td>\n",
       "      <td>Yes</td>\n",
       "      <td>0</td>\n",
       "    </tr>\n",
       "    <tr>\n",
       "      <th>181</th>\n",
       "      <td>61745840</td>\n",
       "      <td>Female</td>\n",
       "      <td>1994-07-24</td>\n",
       "      <td>MA</td>\n",
       "      <td>612-684-5472</td>\n",
       "      <td>Platinum</td>\n",
       "      <td>90591192</td>\n",
       "      <td>61745840</td>\n",
       "      <td>Other driver error</td>\n",
       "      <td>2017-01-01</td>\n",
       "      <td>Home</td>\n",
       "      <td>No</td>\n",
       "      <td>Material and injury</td>\n",
       "      <td>30930.0</td>\n",
       "      <td>1.0</td>\n",
       "      <td>No</td>\n",
       "      <td>0</td>\n",
       "    </tr>\n",
       "    <tr>\n",
       "      <th>905</th>\n",
       "      <td>42664554</td>\n",
       "      <td>Female</td>\n",
       "      <td>1993-08-13</td>\n",
       "      <td>TN</td>\n",
       "      <td>396-973-2531</td>\n",
       "      <td>Gold</td>\n",
       "      <td>42280334</td>\n",
       "      <td>42664554</td>\n",
       "      <td>Other causes</td>\n",
       "      <td>2017-01-01</td>\n",
       "      <td>Auto</td>\n",
       "      <td>No</td>\n",
       "      <td>Injury only</td>\n",
       "      <td>27670.0</td>\n",
       "      <td>1.0</td>\n",
       "      <td>No</td>\n",
       "      <td>0</td>\n",
       "    </tr>\n",
       "    <tr>\n",
       "      <th>231</th>\n",
       "      <td>77219712</td>\n",
       "      <td>Female</td>\n",
       "      <td>1999-08-05</td>\n",
       "      <td>NH</td>\n",
       "      <td>649-592-8793</td>\n",
       "      <td>Platinum</td>\n",
       "      <td>61374372</td>\n",
       "      <td>77219712</td>\n",
       "      <td>Other causes</td>\n",
       "      <td>2017-01-01</td>\n",
       "      <td>Auto</td>\n",
       "      <td>No</td>\n",
       "      <td>Material and injury</td>\n",
       "      <td>20200.0</td>\n",
       "      <td>1.0</td>\n",
       "      <td>No</td>\n",
       "      <td>0</td>\n",
       "    </tr>\n",
       "  </tbody>\n",
       "</table>\n",
       "<p>1078 rows × 17 columns</p>\n",
       "</div>"
      ],
      "text/plain": [
       "       CUST_ID  gender DateOfBirth State       Contact   Segment  claim_id  \\\n",
       "941   46710738    Male  1977-04-28    MO  962-834-9361      Gold  74761374   \n",
       "226   17682060  Female  1974-11-21    NV  186-195-3465      Gold  49735712   \n",
       "286   93915431    Male  2067-09-08    ME  134-785-1687      Gold  99775483   \n",
       "751   28932340    Male  1996-01-05    LA  652-265-8231      Gold  25213498   \n",
       "1055  58451506    Male  2068-04-22    FL  673-574-7823      Gold  43042986   \n",
       "...        ...     ...         ...   ...           ...       ...       ...   \n",
       "177   74155265    Male  1985-11-16    TX  392-739-4873      Gold  25647821   \n",
       "120   39587790    Male  2065-01-10    LA  615-154-3516      Gold  39131766   \n",
       "181   61745840  Female  1994-07-24    MA  612-684-5472  Platinum  90591192   \n",
       "905   42664554  Female  1993-08-13    TN  396-973-2531      Gold  42280334   \n",
       "231   77219712  Female  1999-08-05    NH  649-592-8793  Platinum  61374372   \n",
       "\n",
       "      customer_id      incident_cause claim_date claim_area police_report  \\\n",
       "941      46710738        Driver error 2018-10-30       Auto            No   \n",
       "226      17682060               Crime 2018-10-30       Home       Unknown   \n",
       "286      93915431        Other causes 2018-10-30       Auto            No   \n",
       "751      28932340        Driver error 2018-10-30       Auto       Unknown   \n",
       "1055     58451506      Natural causes 2018-10-30       Auto            No   \n",
       "...           ...                 ...        ...        ...           ...   \n",
       "177      74155265      Natural causes 2017-01-01       Auto            No   \n",
       "120      39587790        Other causes 2017-01-01       Auto            No   \n",
       "181      61745840  Other driver error 2017-01-01       Home            No   \n",
       "905      42664554        Other causes 2017-01-01       Auto            No   \n",
       "231      77219712        Other causes 2017-01-01       Auto            No   \n",
       "\n",
       "               claim_type  claim_amount  total_policy_claims fraudulent  \\\n",
       "941         Material only        1830.0                  1.0         No   \n",
       "226   Material and injury       17020.0                  1.0         No   \n",
       "286   Material and injury       42124.5                  1.0        Yes   \n",
       "751         Material only           NaN                  1.0         No   \n",
       "1055        Material only        2420.0                  1.0         No   \n",
       "...                   ...           ...                  ...        ...   \n",
       "177         Material only        2080.0                  1.0         No   \n",
       "120         Material only        2967.0                  1.0        Yes   \n",
       "181   Material and injury       30930.0                  1.0         No   \n",
       "905           Injury only       27670.0                  1.0         No   \n",
       "231   Material and injury       20200.0                  1.0         No   \n",
       "\n",
       "      unreported  \n",
       "941            0  \n",
       "226            1  \n",
       "286            0  \n",
       "751            1  \n",
       "1055           0  \n",
       "...          ...  \n",
       "177            0  \n",
       "120            0  \n",
       "181            0  \n",
       "905            0  \n",
       "231            0  \n",
       "\n",
       "[1078 rows x 17 columns]"
      ]
     },
     "execution_count": 89,
     "metadata": {},
     "output_type": "execute_result"
    }
   ],
   "source": [
    "#5 Retain the most recent observation and delete any duplicated records in the data based on the customer ID column\n",
    "\n",
    "cust_claims.drop_duplicates(subset='CUST_ID').sort_values(by='claim_date',ascending=False)"
   ]
  },
  {
   "cell_type": "code",
   "execution_count": 90,
   "id": "efd4d957",
   "metadata": {},
   "outputs": [],
   "source": [
    "#6 Check for missing values and impute the missing values with an appropriate value\n",
    "\n",
    "cust_claims['claim_amount'] = cust_claims['claim_amount'].fillna(cust_claims['claim_amount'].mean(),axis=0)"
   ]
  },
  {
   "cell_type": "code",
   "execution_count": 91,
   "id": "e2963ede",
   "metadata": {},
   "outputs": [],
   "source": [
    "cust_claims['total_policy_claims'] = cust_claims['total_policy_claims'].fillna(cust_claims['total_policy_claims'].mode()[0])"
   ]
  },
  {
   "cell_type": "code",
   "execution_count": 92,
   "id": "7a0af883",
   "metadata": {
    "scrolled": false
   },
   "outputs": [
    {
     "data": {
      "text/plain": [
       "CUST_ID                0\n",
       "gender                 0\n",
       "DateOfBirth            0\n",
       "State                  0\n",
       "Contact                0\n",
       "Segment                0\n",
       "claim_id               0\n",
       "customer_id            0\n",
       "incident_cause         0\n",
       "claim_date             0\n",
       "claim_area             0\n",
       "police_report          0\n",
       "claim_type             0\n",
       "claim_amount           0\n",
       "total_policy_claims    0\n",
       "fraudulent             0\n",
       "unreported             0\n",
       "dtype: int64"
      ]
     },
     "execution_count": 92,
     "metadata": {},
     "output_type": "execute_result"
    }
   ],
   "source": [
    "cust_claims.isna().sum()"
   ]
  },
  {
   "cell_type": "code",
   "execution_count": 93,
   "id": "b6c2516e",
   "metadata": {},
   "outputs": [],
   "source": [
    "year = pd.to_datetime(dt.datetime.today()).year"
   ]
  },
  {
   "cell_type": "code",
   "execution_count": 94,
   "id": "2b22fe36",
   "metadata": {},
   "outputs": [],
   "source": [
    "cust_claims['Age'] = year-cust_claims['DateOfBirth'].dt.year"
   ]
  },
  {
   "cell_type": "code",
   "execution_count": 95,
   "id": "2bcfb14b",
   "metadata": {},
   "outputs": [],
   "source": [
    "#changing the year in dateofbirth which are having negative numbers in age\n",
    "cust_claims['Year'] = cust_claims['DateOfBirth'].dt.year"
   ]
  },
  {
   "cell_type": "code",
   "execution_count": 96,
   "id": "7d4a9d97",
   "metadata": {},
   "outputs": [],
   "source": [
    "cust_claims['Year'] = np.where(cust_claims['Age']<0,cust_claims['Year']-100,cust_claims['Year'])"
   ]
  },
  {
   "cell_type": "code",
   "execution_count": 97,
   "id": "8377f96f",
   "metadata": {},
   "outputs": [],
   "source": [
    "cust_claims['day'] = cust_claims['DateOfBirth'].dt.day"
   ]
  },
  {
   "cell_type": "code",
   "execution_count": 98,
   "id": "90e74494",
   "metadata": {},
   "outputs": [],
   "source": [
    "cust_claims['month'] = cust_claims['DateOfBirth'].dt.month"
   ]
  },
  {
   "cell_type": "code",
   "execution_count": 99,
   "id": "d2eabb59",
   "metadata": {},
   "outputs": [],
   "source": [
    "#converting into strings for concatenation\n",
    "cust_claims['Year'] = cust_claims['Year'].astype('str')"
   ]
  },
  {
   "cell_type": "code",
   "execution_count": 100,
   "id": "cbc89fbc",
   "metadata": {},
   "outputs": [],
   "source": [
    "cust_claims['day'] = cust_claims['day'].astype('str')"
   ]
  },
  {
   "cell_type": "code",
   "execution_count": 101,
   "id": "255a79c7",
   "metadata": {},
   "outputs": [],
   "source": [
    "cust_claims['month'] = cust_claims['month'].astype('str')"
   ]
  },
  {
   "cell_type": "code",
   "execution_count": 102,
   "id": "ceff7c74",
   "metadata": {},
   "outputs": [],
   "source": [
    "#after concatenation again converted into datetime format\n",
    "cust_claims['DateOfBirth'] = pd.to_datetime(cust_claims['day']+'-'+cust_claims['month']+'-'+cust_claims['Year'],format='%d-%m-%Y')"
   ]
  },
  {
   "cell_type": "code",
   "execution_count": 103,
   "id": "9c84068b",
   "metadata": {
    "scrolled": true
   },
   "outputs": [],
   "source": [
    "#drop unwanted columns\n",
    "cust_claims = cust_claims.drop(columns=['Year','day','month'])"
   ]
  },
  {
   "cell_type": "code",
   "execution_count": 104,
   "id": "34759554",
   "metadata": {},
   "outputs": [],
   "source": [
    "#calculating the age now\n",
    "year = pd.to_datetime(dt.datetime.today()).year"
   ]
  },
  {
   "cell_type": "code",
   "execution_count": 105,
   "id": "956b7b94",
   "metadata": {},
   "outputs": [],
   "source": [
    "cust_claims['Age'] = year-cust_claims['DateOfBirth'].dt.year"
   ]
  },
  {
   "cell_type": "code",
   "execution_count": 106,
   "id": "4c20ec71",
   "metadata": {},
   "outputs": [],
   "source": [
    "#7 categorize the customers according to their age\n",
    "\n",
    "cust_claims['Age_groups'] = np.where(cust_claims['Age']<18,'Children',np.where((cust_claims['Age']>=18) & (cust_claims['Age'] < 30),'Youth',np.where((cust_claims['Age']>=30) & (cust_claims['Age'] < 60),'Adult',np.where(cust_claims['Age']>=60,'Senior',0))))"
   ]
  },
  {
   "cell_type": "code",
   "execution_count": 107,
   "id": "17ae22d4",
   "metadata": {},
   "outputs": [
    {
     "data": {
      "text/html": [
       "<div>\n",
       "<style scoped>\n",
       "    .dataframe tbody tr th:only-of-type {\n",
       "        vertical-align: middle;\n",
       "    }\n",
       "\n",
       "    .dataframe tbody tr th {\n",
       "        vertical-align: top;\n",
       "    }\n",
       "\n",
       "    .dataframe thead th {\n",
       "        text-align: right;\n",
       "    }\n",
       "</style>\n",
       "<table border=\"1\" class=\"dataframe\">\n",
       "  <thead>\n",
       "    <tr style=\"text-align: right;\">\n",
       "      <th></th>\n",
       "      <th>claim_amount</th>\n",
       "    </tr>\n",
       "    <tr>\n",
       "      <th>Segment</th>\n",
       "      <th></th>\n",
       "    </tr>\n",
       "  </thead>\n",
       "  <tbody>\n",
       "    <tr>\n",
       "      <th>Gold</th>\n",
       "      <td>12829.631974</td>\n",
       "    </tr>\n",
       "    <tr>\n",
       "      <th>Platinum</th>\n",
       "      <td>12341.952267</td>\n",
       "    </tr>\n",
       "    <tr>\n",
       "      <th>Silver</th>\n",
       "      <td>12208.435570</td>\n",
       "    </tr>\n",
       "  </tbody>\n",
       "</table>\n",
       "</div>"
      ],
      "text/plain": [
       "          claim_amount\n",
       "Segment               \n",
       "Gold      12829.631974\n",
       "Platinum  12341.952267\n",
       "Silver    12208.435570"
      ]
     },
     "execution_count": 107,
     "metadata": {},
     "output_type": "execute_result"
    }
   ],
   "source": [
    "#8 average amount claimed by the customers from various segments\n",
    "\n",
    "cust_claims[['Segment','claim_amount']].groupby('Segment').mean()"
   ]
  },
  {
   "cell_type": "code",
   "execution_count": 108,
   "id": "e7081d7a",
   "metadata": {
    "scrolled": true
   },
   "outputs": [
    {
     "data": {
      "text/plain": [
       "incident_cause\n",
       "Crime                  724448.41\n",
       "Driver error          3319952.18\n",
       "Natural causes        1314120.63\n",
       "Other causes          3724984.95\n",
       "Other driver error    3318769.86\n",
       "Name: claim_amount, dtype: float64"
      ]
     },
     "execution_count": 108,
     "metadata": {},
     "output_type": "execute_result"
    }
   ],
   "source": [
    "#9 total claim amount based on incident cause for all the claims that have been done at least 20 days prior to 1st of October, 2018\n",
    "\n",
    "round(cust_claims.loc[cust_claims['claim_date']<'2018-09-10',:].groupby('incident_cause')['claim_amount'].sum(),2)"
   ]
  },
  {
   "cell_type": "code",
   "execution_count": 109,
   "id": "65f6d325",
   "metadata": {
    "scrolled": true
   },
   "outputs": [
    {
     "data": {
      "text/plain": [
       "CUST_ID                         int64\n",
       "gender                         object\n",
       "DateOfBirth            datetime64[ns]\n",
       "State                          object\n",
       "Contact                        object\n",
       "Segment                        object\n",
       "claim_id                        int64\n",
       "customer_id                     int64\n",
       "incident_cause                 object\n",
       "claim_date             datetime64[ns]\n",
       "claim_area                     object\n",
       "police_report                  object\n",
       "claim_type                     object\n",
       "claim_amount                  float64\n",
       "total_policy_claims           float64\n",
       "fraudulent                     object\n",
       "unreported                      int32\n",
       "Age                             int64\n",
       "Age_groups                     object\n",
       "dtype: object"
      ]
     },
     "execution_count": 109,
     "metadata": {},
     "output_type": "execute_result"
    }
   ],
   "source": [
    "cust_claims.dtypes"
   ]
  },
  {
   "cell_type": "code",
   "execution_count": 110,
   "id": "ec3c2fd7",
   "metadata": {},
   "outputs": [],
   "source": [
    "specified_state = ((cust_claims['State']=='TX') |  (cust_claims['State']=='DE') |  (cust_claims['State']=='AK'))"
   ]
  },
  {
   "cell_type": "code",
   "execution_count": 111,
   "id": "6a237e67",
   "metadata": {},
   "outputs": [],
   "source": [
    "state_and_adults = (specified_state) & (cust_claims['Age_groups']=='Adult')"
   ]
  },
  {
   "cell_type": "code",
   "execution_count": 112,
   "id": "a0da97a4",
   "metadata": {},
   "outputs": [],
   "source": [
    "error = ((cust_claims['incident_cause']=='Driver error') | (cust_claims['incident_cause']=='Other driver error'))"
   ]
  },
  {
   "cell_type": "code",
   "execution_count": 113,
   "id": "095e5867",
   "metadata": {},
   "outputs": [
    {
     "data": {
      "text/plain": [
       "28"
      ]
     },
     "execution_count": 113,
     "metadata": {},
     "output_type": "execute_result"
    }
   ],
   "source": [
    "#10 How many adults from TX, DE and AK claimed insurance for driver related issues and causes\n",
    "\n",
    "cust_claims[(state_and_adults) & (error)]['CUST_ID'].count()"
   ]
  },
  {
   "cell_type": "code",
   "execution_count": 114,
   "id": "31e481e5",
   "metadata": {},
   "outputs": [],
   "source": [
    "#11 Pie chart for claim amount based on gender and segment\n",
    "\n",
    "segment_amount = round(pd.pivot_table(data=cust_claims,index='Segment',columns='gender',values='claim_amount',aggfunc=sum),2)"
   ]
  },
  {
   "cell_type": "code",
   "execution_count": 115,
   "id": "4ed042de",
   "metadata": {},
   "outputs": [
    {
     "data": {
      "text/plain": [
       "array([<AxesSubplot:ylabel='Female'>, <AxesSubplot:ylabel='Male'>],\n",
       "      dtype=object)"
      ]
     },
     "execution_count": 115,
     "metadata": {},
     "output_type": "execute_result"
    },
    {
     "data": {
      "image/png": "[encoded data removed]",
      "text/plain": [
       "<Figure size 1296x576 with 2 Axes>"
      ]
     },
     "metadata": {},
     "output_type": "display_data"
    }
   ],
   "source": [
    "segment_amount.plot(kind='pie',subplots=True,figsize=(18,8))"
   ]
  },
  {
   "cell_type": "code",
   "execution_count": 116,
   "id": "a0c59324",
   "metadata": {},
   "outputs": [],
   "source": [
    "amount = pd.pivot_table(data=cust_claims,index='incident_cause',columns='gender',values='claim_amount',aggfunc=sum).reset_index()"
   ]
  },
  {
   "cell_type": "code",
   "execution_count": 117,
   "id": "b481f098",
   "metadata": {},
   "outputs": [],
   "source": [
    "amount1 = round(amount[(amount['incident_cause']=='Driver error') | (amount['incident_cause']=='Other driver error')],2)"
   ]
  },
  {
   "cell_type": "code",
   "execution_count": 118,
   "id": "0be3b1c4",
   "metadata": {
    "scrolled": true
   },
   "outputs": [
    {
     "data": {
      "text/plain": [
       "<AxesSubplot:>"
      ]
     },
     "execution_count": 118,
     "metadata": {},
     "output_type": "execute_result"
    },
    {
     "data": {
      "image/png": "[encoded data removed]",
      "text/plain": [
       "<Figure size 1296x576 with 1 Axes>"
      ]
     },
     "metadata": {
      "needs_background": "light"
     },
     "output_type": "display_data"
    }
   ],
   "source": [
    "#12 Among males and females, which gender had claimed the most for any type of driver related issues\n",
    "\n",
    "amount1.plot(kind='bar',figsize=(18,8))\n",
    "\n",
    "#Male claim amount is high for driver error issues and Female claim amount is high for other driver error issues"
   ]
  },
  {
   "cell_type": "code",
   "execution_count": 119,
   "id": "0614d6de",
   "metadata": {},
   "outputs": [
    {
     "data": {
      "text/html": [
       "<div>\n",
       "<style scoped>\n",
       "    .dataframe tbody tr th:only-of-type {\n",
       "        vertical-align: middle;\n",
       "    }\n",
       "\n",
       "    .dataframe tbody tr th {\n",
       "        vertical-align: top;\n",
       "    }\n",
       "\n",
       "    .dataframe thead th {\n",
       "        text-align: right;\n",
       "    }\n",
       "</style>\n",
       "<table border=\"1\" class=\"dataframe\">\n",
       "  <thead>\n",
       "    <tr style=\"text-align: right;\">\n",
       "      <th></th>\n",
       "      <th>Age_groups</th>\n",
       "    </tr>\n",
       "  </thead>\n",
       "  <tbody>\n",
       "    <tr>\n",
       "      <th>0</th>\n",
       "      <td>Adult</td>\n",
       "    </tr>\n",
       "    <tr>\n",
       "      <th>1</th>\n",
       "      <td>Adult</td>\n",
       "    </tr>\n",
       "    <tr>\n",
       "      <th>2</th>\n",
       "      <td>Adult</td>\n",
       "    </tr>\n",
       "    <tr>\n",
       "      <th>3</th>\n",
       "      <td>Adult</td>\n",
       "    </tr>\n",
       "    <tr>\n",
       "      <th>4</th>\n",
       "      <td>Adult</td>\n",
       "    </tr>\n",
       "    <tr>\n",
       "      <th>...</th>\n",
       "      <td>...</td>\n",
       "    </tr>\n",
       "    <tr>\n",
       "      <th>1080</th>\n",
       "      <td>Adult</td>\n",
       "    </tr>\n",
       "    <tr>\n",
       "      <th>1081</th>\n",
       "      <td>Youth</td>\n",
       "    </tr>\n",
       "    <tr>\n",
       "      <th>1082</th>\n",
       "      <td>Adult</td>\n",
       "    </tr>\n",
       "    <tr>\n",
       "      <th>1083</th>\n",
       "      <td>Adult</td>\n",
       "    </tr>\n",
       "    <tr>\n",
       "      <th>1084</th>\n",
       "      <td>Youth</td>\n",
       "    </tr>\n",
       "  </tbody>\n",
       "</table>\n",
       "<p>1085 rows × 1 columns</p>\n",
       "</div>"
      ],
      "text/plain": [
       "     Age_groups\n",
       "0         Adult\n",
       "1         Adult\n",
       "2         Adult\n",
       "3         Adult\n",
       "4         Adult\n",
       "...         ...\n",
       "1080      Adult\n",
       "1081      Youth\n",
       "1082      Adult\n",
       "1083      Adult\n",
       "1084      Youth\n",
       "\n",
       "[1085 rows x 1 columns]"
      ]
     },
     "execution_count": 119,
     "metadata": {},
     "output_type": "execute_result"
    }
   ],
   "source": [
    "cust_claims[['Age_groups']]"
   ]
  },
  {
   "cell_type": "code",
   "execution_count": 120,
   "id": "4ea22a48",
   "metadata": {
    "scrolled": true
   },
   "outputs": [],
   "source": [
    "count = cust_claims[cust_claims['fraudulent']=='Yes'].groupby('Age_groups')['Age_groups'].count()"
   ]
  },
  {
   "cell_type": "code",
   "execution_count": 121,
   "id": "98a8c61b",
   "metadata": {},
   "outputs": [
    {
     "data": {
      "text/plain": [
       "<AxesSubplot:xlabel='Age_groups'>"
      ]
     },
     "execution_count": 121,
     "metadata": {},
     "output_type": "execute_result"
    },
    {
     "data": {
      "image/png": "[encoded data removed]",
      "text/plain": [
       "<Figure size 1296x576 with 1 Axes>"
      ]
     },
     "metadata": {
      "needs_background": "light"
     },
     "output_type": "display_data"
    }
   ],
   "source": [
    "# Which age group had the maximum fraudulent policy claims\n",
    "\n",
    "count.plot(kind='bar',figsize=(18,8))\n",
    "# From the chart the adult group has maximum policy claims"
   ]
  },
  {
   "cell_type": "code",
   "execution_count": 122,
   "id": "c1842a6d",
   "metadata": {},
   "outputs": [
    {
     "data": {
      "text/html": [
       "<div>\n",
       "<style scoped>\n",
       "    .dataframe tbody tr th:only-of-type {\n",
       "        vertical-align: middle;\n",
       "    }\n",
       "\n",
       "    .dataframe tbody tr th {\n",
       "        vertical-align: top;\n",
       "    }\n",
       "\n",
       "    .dataframe thead th {\n",
       "        text-align: right;\n",
       "    }\n",
       "</style>\n",
       "<table border=\"1\" class=\"dataframe\">\n",
       "  <thead>\n",
       "    <tr style=\"text-align: right;\">\n",
       "      <th></th>\n",
       "      <th>CUST_ID</th>\n",
       "      <th>gender</th>\n",
       "      <th>DateOfBirth</th>\n",
       "      <th>State</th>\n",
       "      <th>Contact</th>\n",
       "      <th>Segment</th>\n",
       "      <th>claim_id</th>\n",
       "      <th>customer_id</th>\n",
       "      <th>incident_cause</th>\n",
       "      <th>claim_date</th>\n",
       "      <th>claim_area</th>\n",
       "      <th>police_report</th>\n",
       "      <th>claim_type</th>\n",
       "      <th>claim_amount</th>\n",
       "      <th>total_policy_claims</th>\n",
       "      <th>fraudulent</th>\n",
       "      <th>unreported</th>\n",
       "      <th>Age</th>\n",
       "      <th>Age_groups</th>\n",
       "    </tr>\n",
       "  </thead>\n",
       "  <tbody>\n",
       "    <tr>\n",
       "      <th>0</th>\n",
       "      <td>21868593</td>\n",
       "      <td>Female</td>\n",
       "      <td>1979-01-12</td>\n",
       "      <td>VT</td>\n",
       "      <td>789-916-8172</td>\n",
       "      <td>Platinum</td>\n",
       "      <td>54004764</td>\n",
       "      <td>21868593</td>\n",
       "      <td>Driver error</td>\n",
       "      <td>2017-11-27</td>\n",
       "      <td>Auto</td>\n",
       "      <td>No</td>\n",
       "      <td>Material only</td>\n",
       "      <td>2980.0</td>\n",
       "      <td>1.0</td>\n",
       "      <td>No</td>\n",
       "      <td>0</td>\n",
       "      <td>43</td>\n",
       "      <td>Adult</td>\n",
       "    </tr>\n",
       "    <tr>\n",
       "      <th>1</th>\n",
       "      <td>75740424</td>\n",
       "      <td>Female</td>\n",
       "      <td>1970-01-13</td>\n",
       "      <td>ME</td>\n",
       "      <td>265-543-1264</td>\n",
       "      <td>Silver</td>\n",
       "      <td>33985796</td>\n",
       "      <td>75740424</td>\n",
       "      <td>Crime</td>\n",
       "      <td>2018-10-03</td>\n",
       "      <td>Home</td>\n",
       "      <td>Unknown</td>\n",
       "      <td>Material only</td>\n",
       "      <td>2980.0</td>\n",
       "      <td>3.0</td>\n",
       "      <td>No</td>\n",
       "      <td>1</td>\n",
       "      <td>52</td>\n",
       "      <td>Adult</td>\n",
       "    </tr>\n",
       "    <tr>\n",
       "      <th>2</th>\n",
       "      <td>30308357</td>\n",
       "      <td>Female</td>\n",
       "      <td>1984-03-11</td>\n",
       "      <td>TN</td>\n",
       "      <td>798-631-4758</td>\n",
       "      <td>Silver</td>\n",
       "      <td>53522022</td>\n",
       "      <td>30308357</td>\n",
       "      <td>Other driver error</td>\n",
       "      <td>2018-02-02</td>\n",
       "      <td>Auto</td>\n",
       "      <td>No</td>\n",
       "      <td>Material only</td>\n",
       "      <td>3369.5</td>\n",
       "      <td>1.0</td>\n",
       "      <td>Yes</td>\n",
       "      <td>0</td>\n",
       "      <td>38</td>\n",
       "      <td>Adult</td>\n",
       "    </tr>\n",
       "    <tr>\n",
       "      <th>3</th>\n",
       "      <td>30308357</td>\n",
       "      <td>Female</td>\n",
       "      <td>1984-03-11</td>\n",
       "      <td>TN</td>\n",
       "      <td>798-631-4758</td>\n",
       "      <td>Silver</td>\n",
       "      <td>63017412</td>\n",
       "      <td>30308357</td>\n",
       "      <td>Driver error</td>\n",
       "      <td>2018-04-04</td>\n",
       "      <td>Auto</td>\n",
       "      <td>No</td>\n",
       "      <td>Material only</td>\n",
       "      <td>1950.0</td>\n",
       "      <td>6.0</td>\n",
       "      <td>No</td>\n",
       "      <td>0</td>\n",
       "      <td>38</td>\n",
       "      <td>Adult</td>\n",
       "    </tr>\n",
       "    <tr>\n",
       "      <th>4</th>\n",
       "      <td>47830476</td>\n",
       "      <td>Female</td>\n",
       "      <td>1986-05-01</td>\n",
       "      <td>MA</td>\n",
       "      <td>413-187-7945</td>\n",
       "      <td>Silver</td>\n",
       "      <td>13015401</td>\n",
       "      <td>47830476</td>\n",
       "      <td>Natural causes</td>\n",
       "      <td>2018-06-17</td>\n",
       "      <td>Auto</td>\n",
       "      <td>No</td>\n",
       "      <td>Material only</td>\n",
       "      <td>1680.0</td>\n",
       "      <td>1.0</td>\n",
       "      <td>No</td>\n",
       "      <td>0</td>\n",
       "      <td>36</td>\n",
       "      <td>Adult</td>\n",
       "    </tr>\n",
       "    <tr>\n",
       "      <th>...</th>\n",
       "      <td>...</td>\n",
       "      <td>...</td>\n",
       "      <td>...</td>\n",
       "      <td>...</td>\n",
       "      <td>...</td>\n",
       "      <td>...</td>\n",
       "      <td>...</td>\n",
       "      <td>...</td>\n",
       "      <td>...</td>\n",
       "      <td>...</td>\n",
       "      <td>...</td>\n",
       "      <td>...</td>\n",
       "      <td>...</td>\n",
       "      <td>...</td>\n",
       "      <td>...</td>\n",
       "      <td>...</td>\n",
       "      <td>...</td>\n",
       "      <td>...</td>\n",
       "      <td>...</td>\n",
       "    </tr>\n",
       "    <tr>\n",
       "      <th>1080</th>\n",
       "      <td>79539873</td>\n",
       "      <td>Female</td>\n",
       "      <td>1981-03-15</td>\n",
       "      <td>ND</td>\n",
       "      <td>459-425-4319</td>\n",
       "      <td>Platinum</td>\n",
       "      <td>62020796</td>\n",
       "      <td>79539873</td>\n",
       "      <td>Other driver error</td>\n",
       "      <td>2018-09-06</td>\n",
       "      <td>Auto</td>\n",
       "      <td>Yes</td>\n",
       "      <td>Material only</td>\n",
       "      <td>1770.0</td>\n",
       "      <td>1.0</td>\n",
       "      <td>No</td>\n",
       "      <td>0</td>\n",
       "      <td>41</td>\n",
       "      <td>Adult</td>\n",
       "    </tr>\n",
       "    <tr>\n",
       "      <th>1081</th>\n",
       "      <td>42364152</td>\n",
       "      <td>Female</td>\n",
       "      <td>1996-07-07</td>\n",
       "      <td>ID</td>\n",
       "      <td>529-462-1635</td>\n",
       "      <td>Silver</td>\n",
       "      <td>63269067</td>\n",
       "      <td>42364152</td>\n",
       "      <td>Other causes</td>\n",
       "      <td>2017-05-09</td>\n",
       "      <td>Home</td>\n",
       "      <td>No</td>\n",
       "      <td>Material only</td>\n",
       "      <td>2800.0</td>\n",
       "      <td>1.0</td>\n",
       "      <td>No</td>\n",
       "      <td>0</td>\n",
       "      <td>26</td>\n",
       "      <td>Youth</td>\n",
       "    </tr>\n",
       "    <tr>\n",
       "      <th>1082</th>\n",
       "      <td>19888166</td>\n",
       "      <td>Male</td>\n",
       "      <td>1990-04-11</td>\n",
       "      <td>WI</td>\n",
       "      <td>712-651-9613</td>\n",
       "      <td>Gold</td>\n",
       "      <td>22690595</td>\n",
       "      <td>19888166</td>\n",
       "      <td>Other driver error</td>\n",
       "      <td>2017-05-15</td>\n",
       "      <td>Auto</td>\n",
       "      <td>Yes</td>\n",
       "      <td>Injury only</td>\n",
       "      <td>33080.0</td>\n",
       "      <td>2.0</td>\n",
       "      <td>No</td>\n",
       "      <td>0</td>\n",
       "      <td>32</td>\n",
       "      <td>Adult</td>\n",
       "    </tr>\n",
       "    <tr>\n",
       "      <th>1083</th>\n",
       "      <td>11256802</td>\n",
       "      <td>Female</td>\n",
       "      <td>1964-10-22</td>\n",
       "      <td>LA</td>\n",
       "      <td>469-345-5617</td>\n",
       "      <td>Silver</td>\n",
       "      <td>12376894</td>\n",
       "      <td>11256802</td>\n",
       "      <td>Other driver error</td>\n",
       "      <td>2017-04-18</td>\n",
       "      <td>Auto</td>\n",
       "      <td>No</td>\n",
       "      <td>Material only</td>\n",
       "      <td>2840.0</td>\n",
       "      <td>4.0</td>\n",
       "      <td>No</td>\n",
       "      <td>0</td>\n",
       "      <td>58</td>\n",
       "      <td>Adult</td>\n",
       "    </tr>\n",
       "    <tr>\n",
       "      <th>1084</th>\n",
       "      <td>61575264</td>\n",
       "      <td>Male</td>\n",
       "      <td>1995-07-12</td>\n",
       "      <td>WY</td>\n",
       "      <td>182-385-1392</td>\n",
       "      <td>Gold</td>\n",
       "      <td>63226031</td>\n",
       "      <td>61575264</td>\n",
       "      <td>Natural causes</td>\n",
       "      <td>2017-03-16</td>\n",
       "      <td>Auto</td>\n",
       "      <td>No</td>\n",
       "      <td>Material only</td>\n",
       "      <td>1490.0</td>\n",
       "      <td>1.0</td>\n",
       "      <td>No</td>\n",
       "      <td>0</td>\n",
       "      <td>27</td>\n",
       "      <td>Youth</td>\n",
       "    </tr>\n",
       "  </tbody>\n",
       "</table>\n",
       "<p>1085 rows × 19 columns</p>\n",
       "</div>"
      ],
      "text/plain": [
       "       CUST_ID  gender DateOfBirth State       Contact   Segment  claim_id  \\\n",
       "0     21868593  Female  1979-01-12    VT  789-916-8172  Platinum  54004764   \n",
       "1     75740424  Female  1970-01-13    ME  265-543-1264    Silver  33985796   \n",
       "2     30308357  Female  1984-03-11    TN  798-631-4758    Silver  53522022   \n",
       "3     30308357  Female  1984-03-11    TN  798-631-4758    Silver  63017412   \n",
       "4     47830476  Female  1986-05-01    MA  413-187-7945    Silver  13015401   \n",
       "...        ...     ...         ...   ...           ...       ...       ...   \n",
       "1080  79539873  Female  1981-03-15    ND  459-425-4319  Platinum  62020796   \n",
       "1081  42364152  Female  1996-07-07    ID  529-462-1635    Silver  63269067   \n",
       "1082  19888166    Male  1990-04-11    WI  712-651-9613      Gold  22690595   \n",
       "1083  11256802  Female  1964-10-22    LA  469-345-5617    Silver  12376894   \n",
       "1084  61575264    Male  1995-07-12    WY  182-385-1392      Gold  63226031   \n",
       "\n",
       "      customer_id      incident_cause claim_date claim_area police_report  \\\n",
       "0        21868593        Driver error 2017-11-27       Auto            No   \n",
       "1        75740424               Crime 2018-10-03       Home       Unknown   \n",
       "2        30308357  Other driver error 2018-02-02       Auto            No   \n",
       "3        30308357        Driver error 2018-04-04       Auto            No   \n",
       "4        47830476      Natural causes 2018-06-17       Auto            No   \n",
       "...           ...                 ...        ...        ...           ...   \n",
       "1080     79539873  Other driver error 2018-09-06       Auto           Yes   \n",
       "1081     42364152        Other causes 2017-05-09       Home            No   \n",
       "1082     19888166  Other driver error 2017-05-15       Auto           Yes   \n",
       "1083     11256802  Other driver error 2017-04-18       Auto            No   \n",
       "1084     61575264      Natural causes 2017-03-16       Auto            No   \n",
       "\n",
       "         claim_type  claim_amount  total_policy_claims fraudulent  unreported  \\\n",
       "0     Material only        2980.0                  1.0         No           0   \n",
       "1     Material only        2980.0                  3.0         No           1   \n",
       "2     Material only        3369.5                  1.0        Yes           0   \n",
       "3     Material only        1950.0                  6.0         No           0   \n",
       "4     Material only        1680.0                  1.0         No           0   \n",
       "...             ...           ...                  ...        ...         ...   \n",
       "1080  Material only        1770.0                  1.0         No           0   \n",
       "1081  Material only        2800.0                  1.0         No           0   \n",
       "1082    Injury only       33080.0                  2.0         No           0   \n",
       "1083  Material only        2840.0                  4.0         No           0   \n",
       "1084  Material only        1490.0                  1.0         No           0   \n",
       "\n",
       "      Age Age_groups  \n",
       "0      43      Adult  \n",
       "1      52      Adult  \n",
       "2      38      Adult  \n",
       "3      38      Adult  \n",
       "4      36      Adult  \n",
       "...   ...        ...  \n",
       "1080   41      Adult  \n",
       "1081   26      Youth  \n",
       "1082   32      Adult  \n",
       "1083   58      Adult  \n",
       "1084   27      Youth  \n",
       "\n",
       "[1085 rows x 19 columns]"
      ]
     },
     "execution_count": 122,
     "metadata": {},
     "output_type": "execute_result"
    }
   ],
   "source": [
    "cust_claims"
   ]
  },
  {
   "cell_type": "code",
   "execution_count": 123,
   "id": "b6a019fa",
   "metadata": {},
   "outputs": [],
   "source": [
    "cust_claims['Month'] = cust_claims['claim_date'].dt.month"
   ]
  },
  {
   "cell_type": "code",
   "execution_count": 124,
   "id": "fba2dd63",
   "metadata": {},
   "outputs": [],
   "source": [
    "Monthly_total_amount = round(cust_claims[['Month','claim_amount']].groupby('Month').sum(),2).reset_index()"
   ]
  },
  {
   "cell_type": "code",
   "execution_count": 125,
   "id": "96fa17b8",
   "metadata": {},
   "outputs": [
    {
     "data": {
      "text/plain": [
       "<AxesSubplot:>"
      ]
     },
     "execution_count": 125,
     "metadata": {},
     "output_type": "execute_result"
    },
    {
     "data": {
      "image/png": "[encoded data removed]",
      "text/plain": [
       "<Figure size 1296x576 with 1 Axes>"
      ]
     },
     "metadata": {
      "needs_background": "light"
     },
     "output_type": "display_data"
    }
   ],
   "source": [
    "#14 Visualize the monthly trend of the total amount that has been claimed by the customers\n",
    "\n",
    "Monthly_total_amount.plot(kind='bar',figsize=(18,8))"
   ]
  },
  {
   "cell_type": "code",
   "execution_count": 126,
   "id": "6368f257",
   "metadata": {},
   "outputs": [],
   "source": [
    "# average claim amount for gender and age categories and suitably represent the above using a facetted bar chart, one facet that represents fraudulent claims and the other for non-fraudulent claims\n",
    "\n",
    "claim1 = cust_claims[cust_claims['fraudulent']=='Yes'].groupby(['Age_groups','gender'])[['claim_amount','Age_groups']].mean()"
   ]
  },
  {
   "cell_type": "code",
   "execution_count": 127,
   "id": "e3def026",
   "metadata": {},
   "outputs": [],
   "source": [
    "claim2 = cust_claims[cust_claims['fraudulent']=='No'].groupby(['Age_groups','gender'])[['claim_amount','Age_groups']].mean()"
   ]
  },
  {
   "cell_type": "code",
   "execution_count": 128,
   "id": "2ec2923b",
   "metadata": {},
   "outputs": [],
   "source": [
    "both_claims = pd.merge(left=claim1,right=claim2,on=['Age_groups','gender'],how='inner')"
   ]
  },
  {
   "cell_type": "code",
   "execution_count": 129,
   "id": "88c9eea7",
   "metadata": {},
   "outputs": [],
   "source": [
    "both_claims = both_claims.rename(columns={'claim_amount_x':'claim_amount_yes','claim_amount_y':'claim_amount_No'})"
   ]
  },
  {
   "cell_type": "code",
   "execution_count": 130,
   "id": "12303214",
   "metadata": {},
   "outputs": [
    {
     "data": {
      "text/html": [
       "<div>\n",
       "<style scoped>\n",
       "    .dataframe tbody tr th:only-of-type {\n",
       "        vertical-align: middle;\n",
       "    }\n",
       "\n",
       "    .dataframe tbody tr th {\n",
       "        vertical-align: top;\n",
       "    }\n",
       "\n",
       "    .dataframe thead th {\n",
       "        text-align: right;\n",
       "    }\n",
       "</style>\n",
       "<table border=\"1\" class=\"dataframe\">\n",
       "  <thead>\n",
       "    <tr style=\"text-align: right;\">\n",
       "      <th></th>\n",
       "      <th></th>\n",
       "      <th>claim_amount_yes</th>\n",
       "      <th>claim_amount_No</th>\n",
       "    </tr>\n",
       "    <tr>\n",
       "      <th>Age_groups</th>\n",
       "      <th>gender</th>\n",
       "      <th></th>\n",
       "      <th></th>\n",
       "    </tr>\n",
       "  </thead>\n",
       "  <tbody>\n",
       "    <tr>\n",
       "      <th rowspan=\"2\" valign=\"top\">Adult</th>\n",
       "      <th>Female</th>\n",
       "      <td>12527.234655</td>\n",
       "      <td>11946.548493</td>\n",
       "    </tr>\n",
       "    <tr>\n",
       "      <th>Male</th>\n",
       "      <td>16281.321981</td>\n",
       "      <td>12247.133466</td>\n",
       "    </tr>\n",
       "    <tr>\n",
       "      <th rowspan=\"2\" valign=\"top\">Senior</th>\n",
       "      <th>Female</th>\n",
       "      <td>3779.076923</td>\n",
       "      <td>14956.920343</td>\n",
       "    </tr>\n",
       "    <tr>\n",
       "      <th>Male</th>\n",
       "      <td>16879.125000</td>\n",
       "      <td>12605.512092</td>\n",
       "    </tr>\n",
       "    <tr>\n",
       "      <th rowspan=\"2\" valign=\"top\">Youth</th>\n",
       "      <th>Female</th>\n",
       "      <td>9214.010738</td>\n",
       "      <td>13172.449467</td>\n",
       "    </tr>\n",
       "    <tr>\n",
       "      <th>Male</th>\n",
       "      <td>7797.732298</td>\n",
       "      <td>12087.228275</td>\n",
       "    </tr>\n",
       "  </tbody>\n",
       "</table>\n",
       "</div>"
      ],
      "text/plain": [
       "                   claim_amount_yes  claim_amount_No\n",
       "Age_groups gender                                   \n",
       "Adult      Female      12527.234655     11946.548493\n",
       "           Male        16281.321981     12247.133466\n",
       "Senior     Female       3779.076923     14956.920343\n",
       "           Male        16879.125000     12605.512092\n",
       "Youth      Female       9214.010738     13172.449467\n",
       "           Male         7797.732298     12087.228275"
      ]
     },
     "execution_count": 130,
     "metadata": {},
     "output_type": "execute_result"
    }
   ],
   "source": [
    "both_claims"
   ]
  },
  {
   "cell_type": "code",
   "execution_count": 131,
   "id": "09ce3860",
   "metadata": {},
   "outputs": [
    {
     "data": {
      "text/plain": [
       "<AxesSubplot:title={'center':'fraudulent_No'}, xlabel='Age_groups,gender'>"
      ]
     },
     "execution_count": 131,
     "metadata": {},
     "output_type": "execute_result"
    },
    {
     "data": {
      "image/png": "[encoded data removed]",
      "text/plain": [
       "<Figure size 1296x576 with 2 Axes>"
      ]
     },
     "metadata": {
      "needs_background": "light"
     },
     "output_type": "display_data"
    }
   ],
   "source": [
    "_,axes=plt.subplots(1,2,figsize=(18,8))\n",
    "claim1.plot(kind='bar',ax=axes[0],title='fraudulent_Yes')\n",
    "claim2.plot(kind='bar',ax=axes[1],title='fraudulent_No')"
   ]
  },
  {
   "cell_type": "code",
   "execution_count": 132,
   "id": "01d4d85f",
   "metadata": {},
   "outputs": [],
   "source": [
    "#16  Is there any similarity in the amount claimed by males and females\n",
    "Male_amount1 = cust_claims.loc[cust_claims['gender']=='Male','claim_amount']"
   ]
  },
  {
   "cell_type": "code",
   "execution_count": 133,
   "id": "ed9a8b39",
   "metadata": {},
   "outputs": [],
   "source": [
    "Female_amount1 = cust_claims.loc[cust_claims['gender']=='Female','claim_amount']\n"
   ]
  },
  {
   "cell_type": "code",
   "execution_count": 134,
   "id": "a29ecc37",
   "metadata": {},
   "outputs": [],
   "source": [
    "#Ho=there is similarity in amount claimed by males and females\n",
    "#Ha=there is no similarity in amount claimed by males and females"
   ]
  },
  {
   "cell_type": "code",
   "execution_count": 135,
   "id": "828d29aa",
   "metadata": {},
   "outputs": [],
   "source": [
    "import scipy.stats as stats\n"
   ]
  },
  {
   "cell_type": "code",
   "execution_count": 136,
   "id": "f0022389",
   "metadata": {},
   "outputs": [],
   "source": [
    "stats_value = stats.ttest_ind(a=Male_amount1,b=Female_amount1)"
   ]
  },
  {
   "cell_type": "code",
   "execution_count": 137,
   "id": "67d0ed82",
   "metadata": {},
   "outputs": [
    {
     "data": {
      "text/plain": [
       "Ttest_indResult(statistic=0.9738138415066818, pvalue=0.33036643165116597)"
      ]
     },
     "execution_count": 137,
     "metadata": {},
     "output_type": "execute_result"
    }
   ],
   "source": [
    "stats_value"
   ]
  },
  {
   "cell_type": "code",
   "execution_count": 138,
   "id": "ae1b3f05",
   "metadata": {},
   "outputs": [],
   "source": [
    "p_value = stats_value.pvalue"
   ]
  },
  {
   "cell_type": "code",
   "execution_count": 139,
   "id": "546bb0f1",
   "metadata": {},
   "outputs": [
    {
     "name": "stdout",
     "output_type": "stream",
     "text": [
      "There is similarity in amount claimed by males and females\n"
     ]
    }
   ],
   "source": [
    "if p_value<0.05:\n",
    "    print('There is no similarity in amount claimed by males and females')\n",
    "else:\n",
    "    print('There is similarity in amount claimed by males and females')"
   ]
  },
  {
   "cell_type": "code",
   "execution_count": 140,
   "id": "7d5beee6",
   "metadata": {},
   "outputs": [],
   "source": [
    "#17 Is there any relationship between age category and segment\n",
    "\n",
    "#Ho=there is relation\n",
    "#Ha=there is no relation\n",
    "#if pvalue<0.05 we can reject null hypothesis and accept alternate hypoyhesis\n",
    "#if pvalue>0.05 we can't reject null hypothesis and accept null hypothesis"
   ]
  },
  {
   "cell_type": "code",
   "execution_count": 141,
   "id": "471f783e",
   "metadata": {},
   "outputs": [],
   "source": [
    "Age_group_segment = pd.crosstab(cust_claims.Age_groups,cust_claims.Segment)"
   ]
  },
  {
   "cell_type": "code",
   "execution_count": 142,
   "id": "623a83b6",
   "metadata": {},
   "outputs": [
    {
     "data": {
      "text/plain": [
       "(0.6494456910829914,\n",
       " 0.9574138066351555,\n",
       " 4,\n",
       " array([[277.18894009, 267.5797235 , 257.23133641],\n",
       "        [ 25.92165899,  25.02304147,  24.05529954],\n",
       "        [ 71.88940092,  69.39723502,  66.71336406]]))"
      ]
     },
     "execution_count": 142,
     "metadata": {},
     "output_type": "execute_result"
    }
   ],
   "source": [
    "stats.chi2_contingency(observed=Age_group_segment)"
   ]
  },
  {
   "cell_type": "code",
   "execution_count": 143,
   "id": "bf8f4aac",
   "metadata": {},
   "outputs": [],
   "source": [
    "p_value = 0.9574138066351555"
   ]
  },
  {
   "cell_type": "code",
   "execution_count": 144,
   "id": "014dba2b",
   "metadata": {
    "scrolled": true
   },
   "outputs": [
    {
     "name": "stdout",
     "output_type": "stream",
     "text": [
      "We cannot reject null hypothesis\n"
     ]
    }
   ],
   "source": [
    "if p_value<0.05:\n",
    "    print('We can reject null hypothesis')\n",
    "else:\n",
    "    print('We cannot reject null hypothesis')"
   ]
  },
  {
   "cell_type": "code",
   "execution_count": 145,
   "id": "904a4b5c",
   "metadata": {},
   "outputs": [],
   "source": [
    "#There is relation between age category and segment"
   ]
  },
  {
   "cell_type": "code",
   "execution_count": 146,
   "id": "5afc79cf",
   "metadata": {},
   "outputs": [],
   "source": [
    "#18  The current year has shown a significant rise in claim amounts as compared to 2016-17 fiscal average which was $10,000\n",
    "\n",
    "#Ho=The current year(which means 2018 by the data) has shown a significant rise in claim amounts as compared to 2016-17\n",
    "#Ha=The current year(which means 2018 by the data) has not shown a significant rise in claim amounts as compared to 2016-17\n",
    "#if pvalue<0.05 we can reject null hypothesis and accept alternate hypoyhesis\n",
    "#if pvalue>0.05 we can't reject null hypothesis and accept null hypothesis\n",
    "\n",
    "cust_claims['Year'] = cust_claims['claim_date'].dt.year"
   ]
  },
  {
   "cell_type": "code",
   "execution_count": 147,
   "id": "c52308f6",
   "metadata": {},
   "outputs": [],
   "source": [
    "specific_year_amount1 = cust_claims[(cust_claims['Year']>=2016) & (cust_claims['Year']<=2017)]['claim_amount']"
   ]
  },
  {
   "cell_type": "code",
   "execution_count": 148,
   "id": "599052c3",
   "metadata": {},
   "outputs": [],
   "source": [
    "specific_year_amount2 = cust_claims[cust_claims['Year']==2018]['claim_amount']"
   ]
  },
  {
   "cell_type": "code",
   "execution_count": 164,
   "id": "c389eb57",
   "metadata": {
    "scrolled": true
   },
   "outputs": [
    {
     "data": {
      "text/plain": [
       "Ttest_indResult(statistic=-0.5191387627600287, pvalue=0.6037700468289373)"
      ]
     },
     "execution_count": 164,
     "metadata": {},
     "output_type": "execute_result"
    }
   ],
   "source": [
    "stats.ttest_ind(a=specific_year_amount1,b=specific_year_amount2)"
   ]
  },
  {
   "cell_type": "code",
   "execution_count": 165,
   "id": "32a0b12e",
   "metadata": {},
   "outputs": [],
   "source": [
    "pvalue=0.6037700468289373"
   ]
  },
  {
   "cell_type": "code",
   "execution_count": 166,
   "id": "40cc87df",
   "metadata": {},
   "outputs": [
    {
     "name": "stdout",
     "output_type": "stream",
     "text": [
      "We cannot reject null hypothesis\n"
     ]
    }
   ],
   "source": [
    "if p_value<0.05:\n",
    "    print('We can reject null hypothesis')\n",
    "else:\n",
    "    print('We cannot reject null hypothesis')"
   ]
  },
  {
   "cell_type": "code",
   "execution_count": null,
   "id": "23f8a77e",
   "metadata": {},
   "outputs": [],
   "source": [
    "#So,The current year has shown a significant rise in claim amounts as compared to 2016-17"
   ]
  },
  {
   "cell_type": "code",
   "execution_count": 150,
   "id": "92285f41",
   "metadata": {},
   "outputs": [],
   "source": [
    "#19 Is there any difference between age groups and insurance claims\n",
    "\n",
    "#Ho=Adult_claims==Youth claims,there is no difference between age groups and total policy claims\n",
    "#Ha=Adult_claims<>Youth claims,there is difference between age groups and total policy claims"
   ]
  },
  {
   "cell_type": "code",
   "execution_count": 151,
   "id": "f35e5ee9",
   "metadata": {},
   "outputs": [],
   "source": [
    "Adult_claims = cust_claims['total_policy_claims'][cust_claims['Age_groups']=='Adult']"
   ]
  },
  {
   "cell_type": "code",
   "execution_count": 152,
   "id": "ae9d11eb",
   "metadata": {},
   "outputs": [],
   "source": [
    "Youth_claims = cust_claims['total_policy_claims'][cust_claims['Age_groups']=='Youth']"
   ]
  },
  {
   "cell_type": "code",
   "execution_count": 153,
   "id": "7f79280d",
   "metadata": {},
   "outputs": [
    {
     "data": {
      "text/plain": [
       "F_onewayResult(statistic=0.9669760282846661, pvalue=0.32567147127981366)"
      ]
     },
     "execution_count": 153,
     "metadata": {},
     "output_type": "execute_result"
    }
   ],
   "source": [
    "stats.f_oneway(Adult_claims,Youth_claims)"
   ]
  },
  {
   "cell_type": "code",
   "execution_count": 154,
   "id": "abda3d53",
   "metadata": {},
   "outputs": [],
   "source": [
    "pvalue=0.32567147127981366"
   ]
  },
  {
   "cell_type": "code",
   "execution_count": 155,
   "id": "053bb07e",
   "metadata": {},
   "outputs": [
    {
     "name": "stdout",
     "output_type": "stream",
     "text": [
      "We cannot reject null hypothesis\n"
     ]
    }
   ],
   "source": [
    "if p_value<0.05:\n",
    "    print('We can reject null hypothesis')\n",
    "else:\n",
    "    print('We cannot reject null hypothesis')"
   ]
  },
  {
   "cell_type": "code",
   "execution_count": 156,
   "id": "f14d0b37",
   "metadata": {},
   "outputs": [],
   "source": [
    "#there is no difference in age groups and total policy claims"
   ]
  },
  {
   "cell_type": "code",
   "execution_count": 157,
   "id": "f5dec109",
   "metadata": {},
   "outputs": [],
   "source": [
    "#20 . Is there any relationship between total number of policy claims and the claimed amount\n",
    "\n",
    "#Ho=there is relation between total policy claims and amount\n",
    "#Ha=there is no relation between total policy claims and amount"
   ]
  },
  {
   "cell_type": "code",
   "execution_count": 158,
   "id": "316bc39b",
   "metadata": {},
   "outputs": [],
   "source": [
    "claims = cust_claims['total_policy_claims']"
   ]
  },
  {
   "cell_type": "code",
   "execution_count": 159,
   "id": "2b176df9",
   "metadata": {},
   "outputs": [],
   "source": [
    "amount = cust_claims['claim_amount']"
   ]
  },
  {
   "cell_type": "code",
   "execution_count": 160,
   "id": "2904a64c",
   "metadata": {},
   "outputs": [
    {
     "data": {
      "text/plain": [
       "F_onewayResult(statistic=944.1538900002209, pvalue=2.006666036156095e-172)"
      ]
     },
     "execution_count": 160,
     "metadata": {},
     "output_type": "execute_result"
    }
   ],
   "source": [
    "stats.f_oneway(claims,amount)"
   ]
  },
  {
   "cell_type": "code",
   "execution_count": 161,
   "id": "66a1d8c4",
   "metadata": {},
   "outputs": [],
   "source": [
    "pvalue=2.006666036156095e-172"
   ]
  },
  {
   "cell_type": "code",
   "execution_count": 162,
   "id": "2f13a3d1",
   "metadata": {},
   "outputs": [
    {
     "name": "stdout",
     "output_type": "stream",
     "text": [
      "We can reject null hypothesis\n"
     ]
    }
   ],
   "source": [
    "if pvalue<0.05:\n",
    "    print('We can reject null hypothesis')\n",
    "else:\n",
    "    print('We cannot reject null hypothesis')"
   ]
  },
  {
   "cell_type": "code",
   "execution_count": 163,
   "id": "f3a4eb47",
   "metadata": {},
   "outputs": [],
   "source": [
    "#with 95% confidence we can reject null hypothesis and accept alternate hypothesis\n",
    "#There is no relation between total policy claims and amount"
   ]
  }
 ],
 "metadata": {
  "kernelspec": {
   "display_name": "Python 3 (ipykernel)",
   "language": "python",
   "name": "python3"
  },
  "language_info": {
   "codemirror_mode": {
    "name": "ipython",
    "version": 3
   },
   "file_extension": ".py",
   "mimetype": "text/x-python",
   "name": "python",
   "nbconvert_exporter": "python",
   "pygments_lexer": "ipython3",
   "version": "3.9.12"
  }
 },
 "nbformat": 4,
 "nbformat_minor": 5
}
